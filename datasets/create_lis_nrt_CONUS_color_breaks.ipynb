{
 "cells": [
  {
   "cell_type": "markdown",
   "id": "3ad51df6-e6d6-438d-a12e-d6c40749386c",
   "metadata": {},
   "source": [
    "# Label individual color stops based on number of categories"
   ]
  },
  {
   "cell_type": "code",
   "execution_count": 5,
   "id": "49d78b96-3804-4afe-9099-08fc0b3ebee0",
   "metadata": {},
   "outputs": [],
   "source": [
    "import numpy as np\n",
    "from matplotlib import pyplot as plt\n",
    "from matplotlib.patches import RegularPolygon\n",
    "import matplotlib.colors as mcolors\n",
    "import pickle\n",
    "from collections import OrderedDict\n",
    "\n"
   ]
  },
  {
   "cell_type": "code",
   "execution_count": null,
   "id": "b9f476ee-6f7e-48bb-9326-62a5d81982ec",
   "metadata": {},
   "outputs": [],
   "source": [
    "def rgb_to_hex(rgb):\n",
    "    \"\"\"Convert RGB values (0-1 range) to HEX format.\"\"\"\n",
    "    return '#{:02x}{:02x}{:02x}'.format(int(rgb[0] * 255), int(rgb[1] * 255), int(rgb[2] * 255))"
   ]
  },
  {
   "cell_type": "code",
   "execution_count": 34,
   "id": "ad900c3e-1a95-421b-a8e7-1d2bbc1574af",
   "metadata": {},
   "outputs": [
    {
     "data": {
      "text/plain": [
       "OrderedDict([('0', [0.0, 0.0, 0.0]),\n",
       "             ('1', [1.0, 1.0, 1.0]),\n",
       "             ('2', [0.9804, 0.2353, 0.2353]),\n",
       "             ('3', [0.0, 0.8627, 0.0]),\n",
       "             ('4', [0.1176, 0.2353, 1.0]),\n",
       "             ('5', [0.0, 0.7843, 0.7843]),\n",
       "             ('6', [0.9412, 0.0, 0.5098]),\n",
       "             ('7', [0.902, 0.8627, 0.1961]),\n",
       "             ('8', [0.9412, 0.5098, 0.1569]),\n",
       "             ('9', [0.6275, 0.0, 0.7843]),\n",
       "             ('10', [0.6275, 0.902, 0.1961]),\n",
       "             ('11', [0.0, 0.6275, 1.0]),\n",
       "             ('12', [0.902, 0.6863, 0.1765]),\n",
       "             ('13', [0.0, 0.8235, 0.549]),\n",
       "             ('14', [0.5098, 0.0, 0.8627]),\n",
       "             ('15', [0.6667, 0.6667, 0.6667]),\n",
       "             ('21', [1.0, 0.9804, 0.6667]),\n",
       "             ('22', [1.0, 0.9098, 0.4706]),\n",
       "             ('23', [1.0, 0.7529, 0.2353]),\n",
       "             ('24', [1.0, 0.6275, 0.0]),\n",
       "             ('25', [1.0, 0.3765, 0.0]),\n",
       "             ('26', [1.0, 0.1961, 0.0]),\n",
       "             ('27', [0.8824, 0.0784, 0.0]),\n",
       "             ('28', [0.7529, 0.0, 0.0]),\n",
       "             ('29', [0.6471, 0.0, 0.0]),\n",
       "             ('31', [0.902, 1.0, 0.8824]),\n",
       "             ('32', [0.7843, 1.0, 0.7451]),\n",
       "             ('33', [0.7059, 0.9804, 0.6667]),\n",
       "             ('34', [0.5882, 0.9608, 0.549]),\n",
       "             ('35', [0.4706, 0.9608, 0.451]),\n",
       "             ('36', [0.3137, 0.9412, 0.3137]),\n",
       "             ('37', [0.2157, 0.8235, 0.2353]),\n",
       "             ('38', [0.1176, 0.7059, 0.1176]),\n",
       "             ('39', [0.0588, 0.6275, 0.0588]),\n",
       "             ('41', [0.8824, 1.0, 1.0]),\n",
       "             ('42', [0.7059, 0.9412, 0.9804]),\n",
       "             ('43', [0.5882, 0.8235, 0.9804]),\n",
       "             ('44', [0.4706, 0.7255, 0.9804]),\n",
       "             ('45', [0.3137, 0.6471, 0.9608]),\n",
       "             ('46', [0.2353, 0.5882, 0.9608]),\n",
       "             ('47', [0.1569, 0.5098, 0.9412]),\n",
       "             ('48', [0.1176, 0.4314, 0.9216]),\n",
       "             ('49', [0.0784, 0.3922, 0.8235]),\n",
       "             ('51', [0.8627, 0.8627, 1.0]),\n",
       "             ('52', [0.7529, 0.7059, 1.0]),\n",
       "             ('53', [0.6275, 0.549, 1.0]),\n",
       "             ('54', [0.502, 0.4392, 0.9216]),\n",
       "             ('55', [0.4392, 0.3765, 0.8627]),\n",
       "             ('56', [0.2824, 0.2353, 0.7843]),\n",
       "             ('57', [0.2353, 0.1569, 0.7059]),\n",
       "             ('58', [0.1765, 0.1176, 0.6471]),\n",
       "             ('59', [0.1569, 0.0, 0.6275]),\n",
       "             ('61', [1.0, 0.902, 0.902]),\n",
       "             ('62', [1.0, 0.7843, 0.7843]),\n",
       "             ('63', [0.9725, 0.6275, 0.6275]),\n",
       "             ('64', [0.902, 0.549, 0.549]),\n",
       "             ('65', [0.902, 0.4392, 0.4392]),\n",
       "             ('66', [0.902, 0.3137, 0.3137]),\n",
       "             ('67', [0.7843, 0.2353, 0.2353]),\n",
       "             ('68', [0.7059, 0.1569, 0.1569]),\n",
       "             ('69', [0.6431, 0.1255, 0.1255]),\n",
       "             ('71', [0.9804, 0.9412, 0.902]),\n",
       "             ('72', [0.9412, 0.8627, 0.8235]),\n",
       "             ('73', [0.8824, 0.7451, 0.7059]),\n",
       "             ('74', [0.7843, 0.6275, 0.5882]),\n",
       "             ('75', [0.7059, 0.549, 0.5098]),\n",
       "             ('76', [0.6275, 0.4706, 0.4314]),\n",
       "             ('77', [0.549, 0.3922, 0.3529]),\n",
       "             ('78', [0.4706, 0.3137, 0.2745]),\n",
       "             ('79', [0.3922, 0.2353, 0.1961]),\n",
       "             ('80', [0.1373, 0.1373, 0.1373]),\n",
       "             ('81', [0.2353, 0.2353, 0.2353]),\n",
       "             ('82', [0.3333, 0.3333, 0.3333]),\n",
       "             ('83', [0.4314, 0.4314, 0.4314]),\n",
       "             ('84', [0.5294, 0.5294, 0.5294]),\n",
       "             ('85', [0.6275, 0.6275, 0.6275]),\n",
       "             ('86', [0.7059, 0.7059, 0.7059]),\n",
       "             ('87', [0.7843, 0.7843, 0.7843]),\n",
       "             ('88', [0.8627, 0.8627, 0.8627]),\n",
       "             ('89', [0.9412, 0.9412, 0.9412]),\n",
       "             ('90', [1.0, 1.0, 0.4]),\n",
       "             ('91', [1.0, 0.702, 0.4]),\n",
       "             ('92', [0.9216, 0.4588, 0.0]),\n",
       "             ('93', [0.9216, 0.0, 0.0]),\n",
       "             ('94', [0.4196, 0.0, 0.0])])"
      ]
     },
     "execution_count": 34,
     "metadata": {},
     "output_type": "execute_result"
    }
   ],
   "source": [
    "# First open the grad colors file \n",
    "pickleColorFile = 'gradscolors_37.pkl'\n",
    "\n",
    "fp = open(pickleColorFile, 'rb')\n",
    "grad_colors = pickle.load(fp)\n",
    "fp.close()\n",
    "grad_colors"
   ]
  },
  {
   "cell_type": "code",
   "execution_count": 35,
   "id": "397bf5a1-6fca-4528-908e-333737a86479",
   "metadata": {},
   "outputs": [
    {
     "data": {
      "image/png": "[encoded data removed]",
      "text/plain": [
       "<Figure size 2000x200 with 1 Axes>"
      ]
     },
     "metadata": {},
     "output_type": "display_data"
    }
   ],
   "source": [
    "'''Plot colors'''\n",
    "\n",
    "# Plot the colors\n",
    "fig, ax = plt.subplots(figsize=(20, 2))\n",
    "\n",
    "for i, (key, rgb) in enumerate(grad_colors.items()):\n",
    "    ax.add_patch(plt.Rectangle((i, 0), 1, 1, color=rgb, ec=\"black\"))\n",
    "    ax.text(i + 0.5, -0.5, key, ha='center', va='center', fontsize=10)\n",
    "\n",
    "ax.set_xlim(0, len(grad_colors))\n",
    "ax.set_ylim(0, 1)\n",
    "ax.set_xticks([])\n",
    "ax.set_yticks([])\n",
    "ax.set_frame_on(False)\n",
    "\n",
    "plt.show()"
   ]
  },
  {
   "cell_type": "code",
   "execution_count": 37,
   "id": "28b6c203-4539-4f83-b00b-16ea6a2b459f",
   "metadata": {},
   "outputs": [
    {
     "data": {
      "text/plain": [
       "85"
      ]
     },
     "execution_count": 37,
     "metadata": {},
     "output_type": "execute_result"
    }
   ],
   "source": [
    "len(grad_colors)"
   ]
  },
  {
   "cell_type": "code",
   "execution_count": 42,
   "id": "39490e3d-e7db-4f45-a0dc-33f2f765fabc",
   "metadata": {},
   "outputs": [],
   "source": [
    "# Next convert to RGB to Hex\n",
    "colors_ = OrderedDict(grad_colors)"
   ]
  },
  {
   "cell_type": "code",
   "execution_count": 55,
   "id": "17ae4800-cffb-43cf-8c47-61cca8a05e94",
   "metadata": {},
   "outputs": [],
   "source": [
    "'''Convert to RGB and retain order'''\n",
    "hex_color_dict = {}\n",
    "for i in colors_.items():\n",
    "    hex_color_dict[i[0]] = rgb_to_hex(i[1])"
   ]
  },
  {
   "cell_type": "code",
   "execution_count": 58,
   "id": "88cfba93-cabd-4bb5-9046-eba390e1ce8a",
   "metadata": {},
   "outputs": [],
   "source": [
    "#19 different classes\n",
    "\n",
    "##Percentile cutoffs\n",
    "clevs = [\n",
    "   0, 5, 10, 15, 20, 25, 30, 35, 40, 45, 50, 55, 60, 65, 70, 75, 80, 85, 90, 95, 100\n",
    "]\n",
    "\n",
    " \n",
    "\n",
    "# RGBs\n",
    "#Brown/tan\n",
    "d5 = hex_color_dict['78'] #0-5%\n",
    "d10 = hex_color_dict['76'] #5-10%\n",
    "d15 = hex_color_dict['73'] #10-15%\n",
    "\n",
    "#Red\n",
    "d20 = hex_color_dict['29'] #15-20%\n",
    "d25 = hex_color_dict['27'] #20-25%\n",
    "d30 = hex_color_dict['25'] #25-30%\n",
    "\n",
    "#Orange\n",
    "d35 = hex_color_dict['24'] #30-35%\n",
    "d40 = hex_color_dict['23'] #35-40%\n",
    "d45 = hex_color_dict['22'] #40-45%\n",
    "\n",
    "#Yellow (same color, no need for a distinction based on subject expertise)\n",
    "d50 = hex_color_dict['21'] #45-50%\n",
    "d55 = hex_color_dict['21'] #50-55%\n",
    "\n",
    "#Green\n",
    "d60 = hex_color_dict['33'] #55-60%\n",
    "d65 = hex_color_dict['36'] #60-65%\n",
    "d70 = hex_color_dict['39'] #65-70%\n",
    "\n",
    "#Blue\n",
    "d75 = hex_color_dict['43'] #70-75%\n",
    "d80 = hex_color_dict['46'] #75-80%\n",
    "d85 = hex_color_dict['49'] #80-85%\n",
    "\n",
    "#Purple\n",
    "d90 = hex_color_dict['53'] #85-90%\n",
    "d95 = hex_color_dict['56'] #90-95%\n",
    "d100 = hex_color_dict['59'] #95-100%\n",
    "\n",
    "all_colors = [d5,d10,d15,d20,d25,d30,d35,d40,d45,d50,d55,d60,d65,d70,d75,d80,d85,d90,d95,d100]\n",
    "\n",
    "# Create a custom colormap from discrete colors\n",
    "my_cmap = mcolors.ListedColormap(all_colors)\n",
    "# Normalize the percentile cutoffs for proper mapping\n",
    "norm = mcolors.BoundaryNorm(clevs, my_cmap.N)\n",
    "\n",
    "\n"
   ]
  },
  {
   "cell_type": "code",
   "execution_count": 60,
   "id": "a60a00db-556b-42b8-96bb-672d61c3a203",
   "metadata": {},
   "outputs": [
    {
     "data": {
      "text/plain": [
       "['#784f45',\n",
       " '#a0786e',\n",
       " '#e1beb4',\n",
       " '#a50000',\n",
       " '#e11300',\n",
       " '#ff6000',\n",
       " '#ffa000',\n",
       " '#ffbf3c',\n",
       " '#ffe778',\n",
       " '#fffaaa',\n",
       " '#fffaaa',\n",
       " '#b4faaa',\n",
       " '#4ff04f',\n",
       " '#0ea00e',\n",
       " '#95d1fa',\n",
       " '#3c95f5',\n",
       " '#1364d1',\n",
       " '#a08bff',\n",
       " '#483cc7',\n",
       " '#2800a0']"
      ]
     },
     "execution_count": 60,
     "metadata": {},
     "output_type": "execute_result"
    }
   ],
   "source": [
    "'''This equals the stops needed only for soil moisture CONUS from Disasters'''\n",
    "all_colors"
   ]
  },
  {
   "cell_type": "code",
   "execution_count": 59,
   "id": "7a5ba83f-d7ff-4d2a-8539-619830dd245f",
   "metadata": {},
   "outputs": [
    {
     "data": {
      "image/png": "[encoded data removed]",
      "text/plain": [
       "<Figure size 640x480 with 2 Axes>"
      ]
     },
     "metadata": {},
     "output_type": "display_data"
    }
   ],
   "source": [
    "fig, ax = plt.subplots()\n",
    "cb = plt.colorbar(plt.cm.ScalarMappable(cmap=my_cmap, norm=norm), ax=ax, ticks=clevs)\n",
    "cb.ax.set_yticklabels([f\"{c}%\" for c in clevs])  # Label in percentages\n",
    "plt.show()"
   ]
  }
 ],
 "metadata": {
  "kernelspec": {
   "display_name": "Python 3 (ipykernel)",
   "language": "python",
   "name": "python3"
  },
  "language_info": {
   "codemirror_mode": {
    "name": "ipython",
    "version": 3
   },
   "file_extension": ".py",
   "mimetype": "text/x-python",
   "name": "python",
   "nbconvert_exporter": "python",
   "pygments_lexer": "ipython3",
   "version": "3.12.7"
  }
 },
 "nbformat": 4,
 "nbformat_minor": 5
}
